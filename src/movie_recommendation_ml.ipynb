{
 "cells": [
  {
   "cell_type": "code",
   "execution_count": 1,
   "metadata": {},
   "outputs": [],
   "source": [
    "import pandas as pd\n",
    "import numpy as np\n",
    "from sklearn.feature_extraction.text import CountVectorizer\n",
    "from sklearn.metrics.pairwise import cosine_similarity"
   ]
  },
  {
   "cell_type": "code",
   "execution_count": 2,
   "metadata": {},
   "outputs": [],
   "source": [
    "def get_title_from_index(index):\n",
    "    return df[df.index == index][\"title\"].values[0]\n",
    "\n",
    "def get_index_from_title(title):\n",
    "    return df[df.title == title][\"index\"].values[0]"
   ]
  },
  {
   "cell_type": "code",
   "execution_count": 3,
   "metadata": {},
   "outputs": [],
   "source": [
    "df = pd.read_csv(\"dataset.csv\")"
   ]
  },
  {
   "cell_type": "code",
   "execution_count": 7,
   "metadata": {},
   "outputs": [],
   "source": [
    "features = ['keywords','cast', 'genres', 'director']\n",
    "for feature in features:\n",
    "    df[feature] = df[feature].fillna('')"
   ]
  },
  {
   "cell_type": "code",
   "execution_count": 8,
   "metadata": {},
   "outputs": [],
   "source": [
    "def combine_features(row):\n",
    "    return row['keywords']+\"\"+row['cast']+\"\"+row['genres']+row['director']\n",
    "\n",
    "df[\"combine_features\"] = df.apply(combine_features, axis=1)"
   ]
  },
  {
   "cell_type": "code",
   "execution_count": 12,
   "metadata": {},
   "outputs": [],
   "source": [
    "cv = CountVectorizer()\n",
    "count_matrix = cv.fit_transform(df[\"combine_features\"])\n",
    "similarity_score = cosine_similarity(count_matrix)\n",
    "\n",
    "movie_user_likes = \"Avatar\"\n",
    "\n",
    "movie_index = get_index_from_title(movie_user_likes)\n",
    "\n",
    "similar_movies = list(enumerate(similarity_score[movie_index]))\n",
    "\n",
    "sorted_similar_movies = sorted(similar_movies, key=lambda x:x[1], reverse=True)"
   ]
  },
  {
   "cell_type": "code",
   "execution_count": 13,
   "metadata": {},
   "outputs": [
    {
     "name": "stdout",
     "output_type": "stream",
     "text": [
      "Avatar\n",
      "Guardians of the Galaxy\n",
      "Alien\n",
      "Aliens\n",
      "Star Wars: Clone Wars: Volume 1\n",
      "Space Dogs\n",
      "Cargo\n",
      "Star Trek Beyond\n",
      "Moonraker\n",
      "Jason X\n",
      "Galaxy Quest\n",
      "Trekkies\n",
      "Silent Running\n",
      "The Astronaut's Wife\n",
      "Planet of the Apes\n",
      "Wing Commander\n",
      "Star Trek Into Darkness\n",
      "Babylon A.D.\n",
      "Space Chimps\n",
      "Galaxina\n",
      "Oblivion\n",
      "The Ice Pirates\n",
      "John Carter\n",
      "Soldier\n",
      "Damnation Alley\n",
      "Gravity\n",
      "Men in Black\n",
      "Sheena\n",
      "Men in Black II\n",
      "Memoirs of an Invisible Man\n",
      "Treasure Planet\n",
      "The Iron Giant\n",
      "Shrek Forever After\n",
      "Source Code\n",
      "Captain America: The Winter Soldier\n",
      "Lost in Space\n",
      "Event Horizon\n",
      "The Right Stuff\n",
      "Crossroads\n",
      "Stargate: The Ark of Truth\n",
      "Saving Private Ryan\n",
      "Terminator 2: Judgment Day\n",
      "Titan A.E.\n",
      "Sunshine\n",
      "The Thing\n",
      "Spaceballs\n",
      "Jupiter Ascending\n",
      "Mad Max: Fury Road\n",
      "Red Planet\n",
      "AVP: Alien vs. Predator\n",
      "Zathura: A Space Adventure\n"
     ]
    }
   ],
   "source": [
    "i=0\n",
    "for movie in sorted_similar_movies:\n",
    "    print (get_title_from_index(movie[0]))\n",
    "    i=i+1\n",
    "    if(i>50): \n",
    "        break"
   ]
  },
  {
   "cell_type": "code",
   "execution_count": null,
   "metadata": {},
   "outputs": [],
   "source": []
  }
 ],
 "metadata": {
  "kernelspec": {
   "display_name": "Python 3",
   "language": "python",
   "name": "python3"
  },
  "language_info": {
   "codemirror_mode": {
    "name": "ipython",
    "version": 3
   },
   "file_extension": ".py",
   "mimetype": "text/x-python",
   "name": "python",
   "nbconvert_exporter": "python",
   "pygments_lexer": "ipython3",
   "version": "3.7.6"
  }
 },
 "nbformat": 4,
 "nbformat_minor": 4
}
